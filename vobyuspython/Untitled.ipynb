{
 "cells": [
  {
   "cell_type": "code",
   "execution_count": 1,
   "metadata": {},
   "outputs": [],
   "source": [
    "import obd\n",
    "obd.logger.setLevel(obd.logging.DEBUG)\n",
    "#ports = obd.scan_serial()       # return list of valid USB or RF ports\n",
    "#print(ports)"
   ]
  },
  {
   "cell_type": "code",
   "execution_count": 7,
   "metadata": {},
   "outputs": [
    {
     "data": {
      "text/plain": [
       "['C:\\\\Users\\\\justi\\\\Anaconda3\\\\lib\\\\site-packages\\\\obd']"
      ]
     },
     "execution_count": 7,
     "metadata": {},
     "output_type": "execute_result"
    }
   ],
   "source": [
    "obd.__path__\n"
   ]
  },
  {
   "cell_type": "code",
   "execution_count": 2,
   "metadata": {},
   "outputs": [
    {
     "name": "stderr",
     "output_type": "stream",
     "text": [
      "[obd.obd] ======================= python-OBD (v0.7.1) =======================\n",
      "[obd.obd] Explicit port defined\n",
      "[obd.elm327] Initializing ELM327: PORT=COM3 BAUD=auto PROTOCOL=auto\n",
      "[obd.elm327] Response from baud 38400: b'\\x7f\\x7f\\r?\\r\\r>'\n",
      "[obd.elm327] Choosing baud 38400\n",
      "[obd.elm327] write: b'ATZ\\r'\n",
      "[obd.elm327] wait: 1 seconds\n",
      "[obd.elm327] read: b'ATZ\\r\\r\\rELM327 v1.5\\r\\r>'\n",
      "[obd.elm327] write: b'ATE0\\r'\n",
      "[obd.elm327] read: b'ATE0\\rOK\\r\\r>'\n",
      "[obd.elm327] write: b'ATH1\\r'\n",
      "[obd.elm327] read: b'OK'\n",
      "[obd.elm327] write: b'ATL0\\r'\n",
      "[obd.elm327] read: b'OK'\n",
      "[obd.elm327] write: b'AT RV\\r'\n",
      "[obd.elm327] read: b'12.7V\\r\\r>'\n",
      "[obd.elm327] write: b'ATSP0\\r'\n",
      "[obd.elm327] read: b'OK'\n",
      "[obd.elm327] write: b'0100\\r'\n",
      "[obd.elm327] read: b'SEARCHING...\\r7E8 06 41 00 80 08 00 13 \\r7E9 06 41 00 80 00 00 01 \\r7EB 06 41 00 80 00 00 01 \\r7EC 06 41 00 80 00 00 01 \\r7EE 06 41 00 80 00 00 01 \\r7EF 06 41 00 00 00 00 01 \\r\\r>'\n",
      "[obd.elm327] write: b'ATDPN\\r'\n",
      "[obd.elm327] read: b'A6\\r\\r>'\n",
      "[obd.protocols.protocol] map ECU 0 --> ENGINE\n",
      "[obd.protocols.protocol] map ECU 1 --> TRANSMISSION\n",
      "[obd.protocols.protocol] map ECU 3 --> UNKNOWN\n",
      "[obd.protocols.protocol] map ECU 4 --> UNKNOWN\n",
      "[obd.protocols.protocol] map ECU 6 --> UNKNOWN\n",
      "[obd.protocols.protocol] map ECU 7 --> UNKNOWN\n",
      "[obd.elm327] Connected Successfully: PORT=COM3 BAUD=38400 PROTOCOL=6\n",
      "[obd.obd] querying for supported commands\n",
      "[obd.obd] Sending command: b'0100': Supported PIDs [01-20]\n",
      "[obd.elm327] write: b'0100\\r'\n",
      "[obd.elm327] read: b'7E8 06 41 00 80 08 00 13 \\r7E9 06 41 00 80 00 00 01 \\r7EB 06 41 00 80 00 00 01 \\r7EC 06 41 00 80 00 00 01 \\r7EE 06 41 00 80 00 00 01 \\r7EF 06 41 00 00 00 00 01 \\r\\r>'\n",
      "[obd.obd] Sending command: b'0120': Supported PIDs [21-40]\n",
      "[obd.elm327] write: b'0120\\r'\n",
      "[obd.elm327] read: b'7E8 06 41 20 80 01 80 01 \\r7E9 06 41 20 00 00 00 01 \\r7EB 06 41 20 00 00 00 01 \\r7EC 06 41 20 00 00 00 01 \\r7EE 06 41 20 00 00 00 01 \\r7EF 06 41 20 00 00 00 01 \\r\\r>'\n",
      "[obd.obd] Sending command: b'0140': Supported PIDs [41-60]\n",
      "[obd.elm327] write: b'0140\\r'\n",
      "[obd.elm327] read: b'7E8 06 41 40 44 C0 80 20 \\r7EF 06 41 40 40 00 00 00 \\r7E9 06 41 40 40 00 00 00 \\r7EB 06 41 40 40 00 00 00 \\r7EC 06 41 40 40 00 00 00 \\r7EE 06 41 40 40 00 00 00 \\r\\r>'\n",
      "[obd.obd] Sending command: b'0600': Supported MIDs [01-20]\n",
      "[obd.elm327] write: b'0600\\r'\n",
      "[obd.elm327] read: b'NO DATA\\r\\r>'\n",
      "[obd.obd] finished querying with 37 commands supported\n",
      "[obd.obd] ===================================================================\n"
     ]
    }
   ],
   "source": [
    "connection = obd.OBD(portstr=\"COM3\") # auto-connects to USB or RF port"
   ]
  },
  {
   "cell_type": "code",
   "execution_count": 3,
   "metadata": {},
   "outputs": [],
   "source": [
    "cmd = obd.commands.RPM # select an OBD command (sensor)"
   ]
  },
  {
   "cell_type": "code",
   "execution_count": 4,
   "metadata": {},
   "outputs": [
    {
     "name": "stderr",
     "output_type": "stream",
     "text": [
      "[obd.obd] 'b'010C': Engine RPM' is not supported\n"
     ]
    },
    {
     "name": "stdout",
     "output_type": "stream",
     "text": [
      "None\n"
     ]
    }
   ],
   "source": [
    "response = connection.query(cmd) # send the command, and parse the response\n",
    "    #ports = obd.scan_serial()\n",
    "    #print(ports)\n",
    "print(response.value) # returns unit-bearing values thanks to Pint\n",
    "#print(response.value.to(\"mph\")) # user-friendly unit conversions"
   ]
  },
  {
   "cell_type": "code",
   "execution_count": 5,
   "metadata": {},
   "outputs": [
    {
     "name": "stderr",
     "output_type": "stream",
     "text": [
      "[obd.obd] Closing connection\n",
      "[obd.elm327] closing port\n",
      "[obd.elm327] write: b'ATZ\\r'\n"
     ]
    }
   ],
   "source": [
    "connection.close()"
   ]
  },
  {
   "cell_type": "code",
   "execution_count": null,
   "metadata": {},
   "outputs": [],
   "source": []
  },
  {
   "cell_type": "code",
   "execution_count": null,
   "metadata": {},
   "outputs": [],
   "source": []
  },
  {
   "cell_type": "code",
   "execution_count": null,
   "metadata": {},
   "outputs": [],
   "source": []
  }
 ],
 "metadata": {
  "kernelspec": {
   "display_name": "Python 3",
   "language": "python",
   "name": "python3"
  },
  "language_info": {
   "codemirror_mode": {
    "name": "ipython",
    "version": 3
   },
   "file_extension": ".py",
   "mimetype": "text/x-python",
   "name": "python",
   "nbconvert_exporter": "python",
   "pygments_lexer": "ipython3",
   "version": "3.7.3"
  }
 },
 "nbformat": 4,
 "nbformat_minor": 2
}
